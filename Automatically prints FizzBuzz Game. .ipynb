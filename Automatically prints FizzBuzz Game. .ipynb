{
 "cells": [
  {
   "cell_type": "raw",
   "metadata": {},
   "source": [
    "write a program that automatically prints the solution to the FizzBuzz game. \n",
    "instruction:\n",
    "Your program should print each number from 1 to 100 in turn.` \n",
    "\n",
    ">   `When the number is divisible by 3 then instead of printing the number it should print \"Fizz\".` \n",
    "\n",
    ">     `When the number is divisible by 5, then instead of printing the number it should print \"Buzz\".` \n",
    "\n",
    ">       `And if the number is divisible by both 3 and 5 e.g. 15 then instead of the number it should print \"FizzBuzz\"`\n",
    "e.g. it might start off like this:\n",
    "`1 ,2\n",
    "Fizz\n",
    "4,Buzz Fizz\n",
    "7,8\n",
    "Fizz,Buzz\n",
    "11\n",
    "Fizz\n",
    "13,14\n",
    "FizzBuzz`\n"
   ]
  },
  {
   "cell_type": "code",
   "execution_count": null,
   "metadata": {},
   "outputs": [],
   "source": [
    "number = input(\"enter number: \")\n",
    "total=1\n",
    "for number in range(1,15):\n",
    "    total += number\n",
    "    if number % 3 == 0 and number % 5 == 0:\n",
    "        print(\"FizzBuzz\")\n",
    "    elif number % 3 == 0:\n",
    "        print(\"Fizz\")\n",
    "    elif number % 5 == 0:\n",
    "        print(\"Buzz\")\n",
    "    else:\n",
    "        print(number)\n",
    "        "
   ]
  },
  {
   "cell_type": "code",
   "execution_count": null,
   "metadata": {},
   "outputs": [],
   "source": []
  },
  {
   "cell_type": "code",
   "execution_count": null,
   "metadata": {},
   "outputs": [],
   "source": []
  }
 ],
 "metadata": {
  "kernelspec": {
   "display_name": "Python 3",
   "language": "python",
   "name": "python3"
  },
  "language_info": {
   "codemirror_mode": {
    "name": "ipython",
    "version": 3
   },
   "file_extension": ".py",
   "mimetype": "text/x-python",
   "name": "python",
   "nbconvert_exporter": "python",
   "pygments_lexer": "ipython3",
   "version": "3.8.3"
  }
 },
 "nbformat": 4,
 "nbformat_minor": 4
}
